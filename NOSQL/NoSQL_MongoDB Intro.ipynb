{
 "cells": [
  {
   "cell_type": "code",
   "execution_count": 1,
   "id": "1e6b4256",
   "metadata": {},
   "outputs": [
    {
     "name": "stdout",
     "output_type": "stream",
     "text": [
      "Collecting pymongo\n",
      "  Downloading pymongo-4.2.0-cp38-cp38-win_amd64.whl (374 kB)\n",
      "Installing collected packages: pymongo\n",
      "Successfully installed pymongo-4.2.0\n"
     ]
    }
   ],
   "source": [
    "!pip install pymongo"
   ]
  },
  {
   "cell_type": "code",
   "execution_count": 3,
   "id": "a18e1831",
   "metadata": {},
   "outputs": [],
   "source": [
    "import pymongo"
   ]
  },
  {
   "cell_type": "code",
   "execution_count": 4,
   "id": "d887a7e5",
   "metadata": {},
   "outputs": [],
   "source": [
    "DEFAULT_CONNECTION_URL = \"mongodb://localhost:27017\"\n",
    "DB_NAME=\"COLLEGE\"\n",
    "\n",
    "#Establish connection with mongoDB\n",
    "client=pymongo.MongoClient(DEFAULT_CONNECTION_URL)\n",
    "\n",
    "#create database\n",
    "dataBase=client[DB_NAME]\n"
   ]
  },
  {
   "cell_type": "code",
   "execution_count": 5,
   "id": "359980a8",
   "metadata": {},
   "outputs": [
    {
     "data": {
      "text/plain": [
       "['admin', 'config', 'local']"
      ]
     },
     "execution_count": 5,
     "metadata": {},
     "output_type": "execute_result"
    }
   ],
   "source": [
    "#lets see the existing databases\n",
    "client.list_database_names()"
   ]
  },
  {
   "cell_type": "code",
   "execution_count": 6,
   "id": "4d95b03e",
   "metadata": {},
   "outputs": [
    {
     "name": "stdout",
     "output_type": "stream",
     "text": [
      "DB : 'COLLEGE' not yet present or no collections\n"
     ]
    }
   ],
   "source": [
    "#lets verify whether we have our database in the list\n",
    "def checkExistance_DB(DB_NAME,client):\n",
    "    DBlist=client.list_database_names()\n",
    "    if DB_NAME in DBlist:\n",
    "        print(f\" DB : '{DB_NAME}' EXISTS\")\n",
    "        return True\n",
    "    print(f\"DB : '{DB_NAME}' not yet present or no collections\")\n",
    "    return False\n",
    "\n",
    "\n",
    "_=checkExistance_DB(DB_NAME=DB_NAME,client=client)            "
   ]
  },
  {
   "cell_type": "code",
   "execution_count": 7,
   "id": "c133629f",
   "metadata": {},
   "outputs": [],
   "source": [
    "COLLECTION_NAME=\"Courses\"\n",
    "collection=dataBase[COLLECTION_NAME]"
   ]
  },
  {
   "cell_type": "code",
   "execution_count": 10,
   "id": "c7fe239d",
   "metadata": {},
   "outputs": [
    {
     "name": "stdout",
     "output_type": "stream",
     "text": [
      " Collection : 'Courses' in database 'COLLEGE' does not EXISTS\n"
     ]
    }
   ],
   "source": [
    "def checkExistance_COL(COLLECTION_NAME,DB_NAME,db):\n",
    "    collection_list=db.list_collection_names()\n",
    "    if COLLECTION_NAME in collection_list:\n",
    "        print(f\" Collection : '{COLLECTION_NAME}' in database '{DB_NAME}' EXISTS\")\n",
    "        return True\n",
    "    \n",
    "    print(f\" Collection : '{COLLECTION_NAME}' in database '{DB_NAME}' does not EXISTS\")\n",
    "    return False\n",
    "\n",
    "\n",
    "_=checkExistance_COL(COLLECTION_NAME=COLLECTION_NAME,DB_NAME=DB_NAME,db=dataBase)"
   ]
  },
  {
   "cell_type": "code",
   "execution_count": 11,
   "id": "c36d3be1",
   "metadata": {},
   "outputs": [
    {
     "data": {
      "text/plain": [
       "<pymongo.results.InsertOneResult at 0x1baa5fcafa0>"
      ]
     },
     "execution_count": 11,
     "metadata": {},
     "output_type": "execute_result"
    }
   ],
   "source": [
    "record={'courseid':101,\n",
    "         'course_name':'Theory of Computation',\n",
    "          'Course_discription':'Turing machine, compiler construction, parser'}\n",
    "\n",
    "collection.insert_one(record)"
   ]
  },
  {
   "cell_type": "code",
   "execution_count": 12,
   "id": "280f615a",
   "metadata": {},
   "outputs": [
    {
     "name": "stdout",
     "output_type": "stream",
     "text": [
      " Collection : 'Courses' in database 'COLLEGE' EXISTS\n"
     ]
    }
   ],
   "source": [
    "_=checkExistance_COL(COLLECTION_NAME=COLLECTION_NAME,DB_NAME=DB_NAME,db=dataBase)"
   ]
  },
  {
   "cell_type": "code",
   "execution_count": 13,
   "id": "11f1b619",
   "metadata": {},
   "outputs": [
    {
     "name": "stdout",
     "output_type": "stream",
     "text": [
      " DB : 'COLLEGE' EXISTS\n"
     ]
    }
   ],
   "source": [
    "_=checkExistance_DB(DB_NAME=DB_NAME,client=client)  "
   ]
  },
  {
   "cell_type": "code",
   "execution_count": 14,
   "id": "16f51869",
   "metadata": {},
   "outputs": [],
   "source": [
    "list_of_records=[\n",
    "    \n",
    "    {'courseid':102,\n",
    "         'course_name':'JAVA Programming',\n",
    "          'Course_discription':'Programming in java',\n",
    "          'Course_duration':'10 hrs'\n",
    "       },\n",
    "    {'courseid':103,\n",
    "         'course_name':'Python Programming',\n",
    "          'Course_discription':'Programming in Python',\n",
    "          'Course_duration':'4 hrs'\n",
    "       },\n",
    "     {'courseid':104,\n",
    "         'course_name':'CPP Programming',\n",
    "          'Course_discription':'Programming in CPP',\n",
    "          'Course_duration':'20 hrs'\n",
    "       }\n",
    "]"
   ]
  },
  {
   "cell_type": "code",
   "execution_count": 15,
   "id": "c280b109",
   "metadata": {},
   "outputs": [],
   "source": [
    "rec=collection.insert_many(list_of_records)"
   ]
  },
  {
   "cell_type": "code",
   "execution_count": 16,
   "id": "0a44c74f",
   "metadata": {},
   "outputs": [
    {
     "data": {
      "text/plain": [
       "pymongo.results.InsertManyResult"
      ]
     },
     "execution_count": 16,
     "metadata": {},
     "output_type": "execute_result"
    }
   ],
   "source": [
    "type(rec)"
   ]
  },
  {
   "cell_type": "code",
   "execution_count": 17,
   "id": "705c387b",
   "metadata": {},
   "outputs": [],
   "source": [
    "inserted_IDs=rec.inserted_ids"
   ]
  },
  {
   "cell_type": "code",
   "execution_count": 18,
   "id": "692fde27",
   "metadata": {},
   "outputs": [
    {
     "name": "stdout",
     "output_type": "stream",
     "text": [
      "[ObjectId('6347dcdb7a06f40c413fa8a8'), ObjectId('6347dcdb7a06f40c413fa8a9'), ObjectId('6347dcdb7a06f40c413fa8aa')]\n"
     ]
    }
   ],
   "source": [
    "print(inserted_IDs)"
   ]
  },
  {
   "cell_type": "code",
   "execution_count": 64,
   "id": "6b5c5418",
   "metadata": {},
   "outputs": [
    {
     "ename": "BulkWriteError",
     "evalue": "batch op errors occurred, full error: {'writeErrors': [{'index': 0, 'code': 11000, 'errmsg': 'E11000 duplicate key error collection: COLLEGE.Courses index: _id_ dup key: { _id: 106 }', 'keyPattern': {'_id': 1}, 'keyValue': {'_id': 106}, 'op': {'_id': 106, 'course_name': 'Python Programming', 'Course_discription': 'Programming in Python', 'Course_duration': '4 hrs'}}], 'writeConcernErrors': [], 'nInserted': 0, 'nUpserted': 0, 'nMatched': 0, 'nModified': 0, 'nRemoved': 0, 'upserted': []}",
     "output_type": "error",
     "traceback": [
      "\u001b[1;31m---------------------------------------------------------------------------\u001b[0m",
      "\u001b[1;31mBulkWriteError\u001b[0m                            Traceback (most recent call last)",
      "Input \u001b[1;32mIn [64]\u001b[0m, in \u001b[0;36m<cell line: 18>\u001b[1;34m()\u001b[0m\n\u001b[0;32m      2\u001b[0m courses\u001b[38;5;241m=\u001b[39mdataBase[COLLECTION_NAME]\n\u001b[0;32m      4\u001b[0m list_of_records_user_defined_id\u001b[38;5;241m=\u001b[39m [\n\u001b[0;32m      5\u001b[0m     \n\u001b[0;32m      6\u001b[0m     {\u001b[38;5;124m'\u001b[39m\u001b[38;5;124m_id\u001b[39m\u001b[38;5;124m'\u001b[39m:\u001b[38;5;241m106\u001b[39m,\n\u001b[1;32m   (...)\u001b[0m\n\u001b[0;32m     16\u001b[0m       \n\u001b[0;32m     17\u001b[0m ]\n\u001b[1;32m---> 18\u001b[0m inserted_records\u001b[38;5;241m=\u001b[39m\u001b[43mcourses\u001b[49m\u001b[38;5;241;43m.\u001b[39;49m\u001b[43minsert_many\u001b[49m\u001b[43m(\u001b[49m\u001b[43mlist_of_records_user_defined_id\u001b[49m\u001b[43m)\u001b[49m\n",
      "File \u001b[1;32m~\\miniconda3\\lib\\site-packages\\pymongo\\_csot.py:105\u001b[0m, in \u001b[0;36mapply.<locals>.csot_wrapper\u001b[1;34m(self, *args, **kwargs)\u001b[0m\n\u001b[0;32m    103\u001b[0m         \u001b[38;5;28;01mwith\u001b[39;00m _TimeoutContext(timeout):\n\u001b[0;32m    104\u001b[0m             \u001b[38;5;28;01mreturn\u001b[39;00m func(\u001b[38;5;28mself\u001b[39m, \u001b[38;5;241m*\u001b[39margs, \u001b[38;5;241m*\u001b[39m\u001b[38;5;241m*\u001b[39mkwargs)\n\u001b[1;32m--> 105\u001b[0m \u001b[38;5;28;01mreturn\u001b[39;00m \u001b[43mfunc\u001b[49m\u001b[43m(\u001b[49m\u001b[38;5;28;43mself\u001b[39;49m\u001b[43m,\u001b[49m\u001b[43m \u001b[49m\u001b[38;5;241;43m*\u001b[39;49m\u001b[43margs\u001b[49m\u001b[43m,\u001b[49m\u001b[43m \u001b[49m\u001b[38;5;241;43m*\u001b[39;49m\u001b[38;5;241;43m*\u001b[39;49m\u001b[43mkwargs\u001b[49m\u001b[43m)\u001b[49m\n",
      "File \u001b[1;32m~\\miniconda3\\lib\\site-packages\\pymongo\\collection.py:707\u001b[0m, in \u001b[0;36mCollection.insert_many\u001b[1;34m(self, documents, ordered, bypass_document_validation, session, comment)\u001b[0m\n\u001b[0;32m    705\u001b[0m blk \u001b[38;5;241m=\u001b[39m _Bulk(\u001b[38;5;28mself\u001b[39m, ordered, bypass_document_validation, comment\u001b[38;5;241m=\u001b[39mcomment)\n\u001b[0;32m    706\u001b[0m blk\u001b[38;5;241m.\u001b[39mops \u001b[38;5;241m=\u001b[39m [doc \u001b[38;5;28;01mfor\u001b[39;00m doc \u001b[38;5;129;01min\u001b[39;00m gen()]\n\u001b[1;32m--> 707\u001b[0m \u001b[43mblk\u001b[49m\u001b[38;5;241;43m.\u001b[39;49m\u001b[43mexecute\u001b[49m\u001b[43m(\u001b[49m\u001b[43mwrite_concern\u001b[49m\u001b[43m,\u001b[49m\u001b[43m \u001b[49m\u001b[43msession\u001b[49m\u001b[38;5;241;43m=\u001b[39;49m\u001b[43msession\u001b[49m\u001b[43m)\u001b[49m\n\u001b[0;32m    708\u001b[0m \u001b[38;5;28;01mreturn\u001b[39;00m InsertManyResult(inserted_ids, write_concern\u001b[38;5;241m.\u001b[39macknowledged)\n",
      "File \u001b[1;32m~\\miniconda3\\lib\\site-packages\\pymongo\\bulk.py:513\u001b[0m, in \u001b[0;36m_Bulk.execute\u001b[1;34m(self, write_concern, session)\u001b[0m\n\u001b[0;32m    511\u001b[0m         \u001b[38;5;28mself\u001b[39m\u001b[38;5;241m.\u001b[39mexecute_no_results(sock_info, generator, write_concern)\n\u001b[0;32m    512\u001b[0m \u001b[38;5;28;01melse\u001b[39;00m:\n\u001b[1;32m--> 513\u001b[0m     \u001b[38;5;28;01mreturn\u001b[39;00m \u001b[38;5;28;43mself\u001b[39;49m\u001b[38;5;241;43m.\u001b[39;49m\u001b[43mexecute_command\u001b[49m\u001b[43m(\u001b[49m\u001b[43mgenerator\u001b[49m\u001b[43m,\u001b[49m\u001b[43m \u001b[49m\u001b[43mwrite_concern\u001b[49m\u001b[43m,\u001b[49m\u001b[43m \u001b[49m\u001b[43msession\u001b[49m\u001b[43m)\u001b[49m\n",
      "File \u001b[1;32m~\\miniconda3\\lib\\site-packages\\pymongo\\bulk.py:394\u001b[0m, in \u001b[0;36m_Bulk.execute_command\u001b[1;34m(self, generator, write_concern, session)\u001b[0m\n\u001b[0;32m    391\u001b[0m     client\u001b[38;5;241m.\u001b[39m_retry_with_session(\u001b[38;5;28mself\u001b[39m\u001b[38;5;241m.\u001b[39mis_retryable, retryable_bulk, s, \u001b[38;5;28mself\u001b[39m)\n\u001b[0;32m    393\u001b[0m \u001b[38;5;28;01mif\u001b[39;00m full_result[\u001b[38;5;124m\"\u001b[39m\u001b[38;5;124mwriteErrors\u001b[39m\u001b[38;5;124m\"\u001b[39m] \u001b[38;5;129;01mor\u001b[39;00m full_result[\u001b[38;5;124m\"\u001b[39m\u001b[38;5;124mwriteConcernErrors\u001b[39m\u001b[38;5;124m\"\u001b[39m]:\n\u001b[1;32m--> 394\u001b[0m     \u001b[43m_raise_bulk_write_error\u001b[49m\u001b[43m(\u001b[49m\u001b[43mfull_result\u001b[49m\u001b[43m)\u001b[49m\n\u001b[0;32m    395\u001b[0m \u001b[38;5;28;01mreturn\u001b[39;00m full_result\n",
      "File \u001b[1;32m~\\miniconda3\\lib\\site-packages\\pymongo\\bulk.py:136\u001b[0m, in \u001b[0;36m_raise_bulk_write_error\u001b[1;34m(full_result)\u001b[0m\n\u001b[0;32m    134\u001b[0m \u001b[38;5;28;01mif\u001b[39;00m full_result[\u001b[38;5;124m\"\u001b[39m\u001b[38;5;124mwriteErrors\u001b[39m\u001b[38;5;124m\"\u001b[39m]:\n\u001b[0;32m    135\u001b[0m     full_result[\u001b[38;5;124m\"\u001b[39m\u001b[38;5;124mwriteErrors\u001b[39m\u001b[38;5;124m\"\u001b[39m]\u001b[38;5;241m.\u001b[39msort(key\u001b[38;5;241m=\u001b[39m\u001b[38;5;28;01mlambda\u001b[39;00m error: error[\u001b[38;5;124m\"\u001b[39m\u001b[38;5;124mindex\u001b[39m\u001b[38;5;124m\"\u001b[39m])\n\u001b[1;32m--> 136\u001b[0m \u001b[38;5;28;01mraise\u001b[39;00m BulkWriteError(full_result)\n",
      "\u001b[1;31mBulkWriteError\u001b[0m: batch op errors occurred, full error: {'writeErrors': [{'index': 0, 'code': 11000, 'errmsg': 'E11000 duplicate key error collection: COLLEGE.Courses index: _id_ dup key: { _id: 106 }', 'keyPattern': {'_id': 1}, 'keyValue': {'_id': 106}, 'op': {'_id': 106, 'course_name': 'Python Programming', 'Course_discription': 'Programming in Python', 'Course_duration': '4 hrs'}}], 'writeConcernErrors': [], 'nInserted': 0, 'nUpserted': 0, 'nMatched': 0, 'nModified': 0, 'nRemoved': 0, 'upserted': []}"
     ]
    }
   ],
   "source": [
    "COLLECTION_NAME=\"Courses\"\n",
    "courses=dataBase[COLLECTION_NAME]\n",
    "\n",
    "list_of_records_user_defined_id= [\n",
    "    \n",
    "    {'_id':106,\n",
    "         'course_name':'Python Programming',\n",
    "          'Course_discription':'Programming in Python',\n",
    "          'Course_duration':'4 hrs'\n",
    "       },\n",
    "     {'_id':107,\n",
    "         'course_name':'CPP Programming',\n",
    "          'Course_discription':'Programming in CPP',\n",
    "          'Course_duration':'20 hrs'\n",
    "       }\n",
    "      \n",
    "]\n",
    "inserted_records=courses.insert_many(list_of_records_user_defined_id)"
   ]
  },
  {
   "cell_type": "code",
   "execution_count": 20,
   "id": "93d815ab",
   "metadata": {},
   "outputs": [
    {
     "name": "stdout",
     "output_type": "stream",
     "text": [
      "{'_id': ObjectId('6347d8b67a06f40c413fa8a7'), 'courseid': 101, 'course_name': 'Theory of Computation', 'Course_discription': 'Turing machine, compiler construction, parser'}\n"
     ]
    }
   ],
   "source": [
    "find_first_record=courses.find_one()\n",
    "print(find_first_record)"
   ]
  },
  {
   "cell_type": "code",
   "execution_count": 60,
   "id": "a627e9ec",
   "metadata": {},
   "outputs": [
    {
     "name": "stdout",
     "output_type": "stream",
     "text": [
      "<pymongo.cursor.Cursor object at 0x000001BAA5FCA160>\n"
     ]
    }
   ],
   "source": [
    "all_record=courses.find()\n",
    "print(all_record)"
   ]
  },
  {
   "cell_type": "code",
   "execution_count": 61,
   "id": "e906b81a",
   "metadata": {},
   "outputs": [
    {
     "name": "stdout",
     "output_type": "stream",
     "text": [
      "(0, {'_id': ObjectId('6347d8b67a06f40c413fa8a7'), 'courseid': 101, 'course_name': 'Theory of Computation', 'Course_discription': 'Turing machine, compiler construction, parser'})\n",
      "(1, {'_id': ObjectId('6347dcdb7a06f40c413fa8a9'), 'courseid': 103, 'course_name': 'Python Programming', 'Course_discription': 'Programming in Python', 'Course_duration': '4 hrs'})\n",
      "(2, {'_id': 106, 'course_name': 'Python Programming', 'Course_discription': 'Programming in Python', 'Course_duration': '4 hrs'})\n"
     ]
    }
   ],
   "source": [
    "for record in enumerate(all_record):\n",
    "    print(record)\n"
   ]
  },
  {
   "cell_type": "code",
   "execution_count": 28,
   "id": "2a9a80be",
   "metadata": {},
   "outputs": [
    {
     "name": "stdout",
     "output_type": "stream",
     "text": [
      "(5, {'_id': 107, 'course_name': 'CPP Programming', 'Course_discription': 'Programming in CPP', 'Course_duration': '20 hrs'})\n"
     ]
    }
   ],
   "source": [
    "print(record)"
   ]
  },
  {
   "cell_type": "code",
   "execution_count": 34,
   "id": "8e7f2ba9",
   "metadata": {},
   "outputs": [],
   "source": [
    "all_records=courses.find({},{'course_name'})"
   ]
  },
  {
   "cell_type": "code",
   "execution_count": 35,
   "id": "13461957",
   "metadata": {},
   "outputs": [
    {
     "name": "stdout",
     "output_type": "stream",
     "text": [
      "(0, {'_id': ObjectId('6347d8b67a06f40c413fa8a7'), 'course_name': 'Theory of Computation'})\n",
      "(1, {'_id': ObjectId('6347dcdb7a06f40c413fa8a8'), 'course_name': 'JAVA Programming'})\n",
      "(2, {'_id': ObjectId('6347dcdb7a06f40c413fa8a9'), 'course_name': 'Python Programming'})\n",
      "(3, {'_id': ObjectId('6347dcdb7a06f40c413fa8aa'), 'course_name': 'CPP Programming'})\n",
      "(4, {'_id': 106, 'course_name': 'Python Programming'})\n",
      "(5, {'_id': 107, 'course_name': 'CPP Programming'})\n"
     ]
    }
   ],
   "source": [
    "for record in enumerate(all_records):\n",
    "    print(record)"
   ]
  },
  {
   "cell_type": "code",
   "execution_count": 38,
   "id": "05a49900",
   "metadata": {},
   "outputs": [
    {
     "name": "stdout",
     "output_type": "stream",
     "text": [
      "{'_id': 107, 'course_name': 'CPP Programming', 'Course_discription': 'Programming in CPP', 'Course_duration': '20 hrs'}\n"
     ]
    }
   ],
   "source": [
    "query1={\"_id\":107}\n",
    "\n",
    "results=courses.find(query1)\n",
    "\n",
    "for data in results:\n",
    "    print(data)"
   ]
  },
  {
   "cell_type": "code",
   "execution_count": 39,
   "id": "a1057436",
   "metadata": {},
   "outputs": [
    {
     "name": "stdout",
     "output_type": "stream",
     "text": [
      "{'_id': ObjectId('6347dcdb7a06f40c413fa8aa'), 'courseid': 104, 'course_name': 'CPP Programming', 'Course_discription': 'Programming in CPP', 'Course_duration': '20 hrs'}\n",
      "{'_id': 107, 'course_name': 'CPP Programming', 'Course_discription': 'Programming in CPP', 'Course_duration': '20 hrs'}\n"
     ]
    }
   ],
   "source": [
    "query1={\"course_name\":'CPP Programming'}\n",
    "\n",
    "results=courses.find(query1)\n",
    "\n",
    "for data in results:\n",
    "    print(data)"
   ]
  },
  {
   "cell_type": "code",
   "execution_count": 43,
   "id": "1b7cd5d0",
   "metadata": {},
   "outputs": [],
   "source": [
    "query2={\"courseid\":{\"$gt\":102}}"
   ]
  },
  {
   "cell_type": "code",
   "execution_count": 44,
   "id": "7e21bdf1",
   "metadata": {},
   "outputs": [
    {
     "name": "stdout",
     "output_type": "stream",
     "text": [
      "{'_id': ObjectId('6347dcdb7a06f40c413fa8a9'), 'courseid': 103, 'course_name': 'Python Programming', 'Course_discription': 'Programming in Python', 'Course_duration': '4 hrs'}\n",
      "{'_id': ObjectId('6347dcdb7a06f40c413fa8aa'), 'courseid': 104, 'course_name': 'CPP Programming', 'Course_discription': 'Programming in CPP', 'Course_duration': '20 hrs'}\n"
     ]
    }
   ],
   "source": [
    "results=courses.find(query2)\n",
    "\n",
    "for data in results:\n",
    "    print(data)"
   ]
  },
  {
   "cell_type": "code",
   "execution_count": 50,
   "id": "35ebbc69",
   "metadata": {},
   "outputs": [],
   "source": [
    "query3={\"courseid\":{\"$eq\":102}}"
   ]
  },
  {
   "cell_type": "code",
   "execution_count": 51,
   "id": "084bac5f",
   "metadata": {},
   "outputs": [
    {
     "name": "stdout",
     "output_type": "stream",
     "text": [
      "{'_id': ObjectId('6347dcdb7a06f40c413fa8a8'), 'courseid': 102, 'course_name': 'JAVA Programming', 'Course_discription': 'Programming in java', 'Course_duration': '10 hrs'}\n"
     ]
    }
   ],
   "source": [
    "results=courses.find(query3)\n",
    "\n",
    "for data in results:\n",
    "    print(data)"
   ]
  },
  {
   "cell_type": "code",
   "execution_count": 58,
   "id": "0e78f7d3",
   "metadata": {},
   "outputs": [],
   "source": [
    "query_to_delete={\"course_name\":'JAVA Programming'}"
   ]
  },
  {
   "cell_type": "code",
   "execution_count": 59,
   "id": "6696528f",
   "metadata": {},
   "outputs": [],
   "source": [
    "del1=courses.delete_one(query_to_delete)"
   ]
  },
  {
   "cell_type": "code",
   "execution_count": 57,
   "id": "23c11d18",
   "metadata": {},
   "outputs": [
    {
     "name": "stdout",
     "output_type": "stream",
     "text": [
      "<pymongo.results.DeleteResult object at 0x000001BAA5FCF700>\n"
     ]
    }
   ],
   "source": [
    "print(del1)"
   ]
  },
  {
   "cell_type": "code",
   "execution_count": 62,
   "id": "eb3a21f8",
   "metadata": {},
   "outputs": [],
   "source": [
    "multi_delete={\"courseid\":{\"$gte\":102}}"
   ]
  },
  {
   "cell_type": "code",
   "execution_count": 63,
   "id": "6ebfc788",
   "metadata": {},
   "outputs": [],
   "source": [
    "del1=courses.delete_many(multi_delete)"
   ]
  },
  {
   "cell_type": "code",
   "execution_count": null,
   "id": "92492d28",
   "metadata": {},
   "outputs": [],
   "source": [
    "courses.delete_many({})"
   ]
  },
  {
   "cell_type": "code",
   "execution_count": null,
   "id": "8606ed6f",
   "metadata": {},
   "outputs": [],
   "source": [
    "courses.drop()"
   ]
  },
  {
   "cell_type": "code",
   "execution_count": 69,
   "id": "bc6f45fb",
   "metadata": {},
   "outputs": [],
   "source": [
    "present_data={'course_name':\"Python Programming\"}\n",
    "new_data={\"$set\":{'course_name':\"Advanced Python Programming\"}}"
   ]
  },
  {
   "cell_type": "code",
   "execution_count": 70,
   "id": "7dd1387b",
   "metadata": {
    "scrolled": true
   },
   "outputs": [
    {
     "data": {
      "text/plain": [
       "<pymongo.results.UpdateResult at 0x1baa8c313a0>"
      ]
     },
     "execution_count": 70,
     "metadata": {},
     "output_type": "execute_result"
    }
   ],
   "source": [
    "courses.update_one(present_data,new_data)"
   ]
  },
  {
   "cell_type": "code",
   "execution_count": null,
   "id": "83297f75",
   "metadata": {},
   "outputs": [],
   "source": []
  }
 ],
 "metadata": {
  "kernelspec": {
   "display_name": "Python 3 (ipykernel)",
   "language": "python",
   "name": "python3"
  },
  "language_info": {
   "codemirror_mode": {
    "name": "ipython",
    "version": 3
   },
   "file_extension": ".py",
   "mimetype": "text/x-python",
   "name": "python",
   "nbconvert_exporter": "python",
   "pygments_lexer": "ipython3",
   "version": "3.8.12"
  }
 },
 "nbformat": 4,
 "nbformat_minor": 5
}
